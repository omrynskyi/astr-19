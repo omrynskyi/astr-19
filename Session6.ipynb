{
 "cells": [
  {
   "cell_type": "code",
   "execution_count": 9,
   "id": "e82c1fe2",
   "metadata": {},
   "outputs": [],
   "source": [
    "import math\n",
    "\n",
    "# Function to calculate sin(x)\n",
    "def sin(x):\n",
    "    return math.sin(x)\n",
    "\n"
   ]
  },
  {
   "cell_type": "markdown",
   "id": "53c652ae",
   "metadata": {},
   "source": [
    "sin: input x output sin(x)"
   ]
  },
  {
   "cell_type": "code",
   "execution_count": null,
   "id": "87b51c61",
   "metadata": {},
   "outputs": [],
   "source": [
    "# Function to calculate cos(x)\n",
    "def cos(x):\n",
    "    return math.cos(x)"
   ]
  },
  {
   "cell_type": "markdown",
   "id": "6f4c923e",
   "metadata": {},
   "source": [
    "cos: input x output cos(x)"
   ]
  },
  {
   "cell_type": "code",
   "execution_count": 10,
   "id": "9ecbf77a",
   "metadata": {},
   "outputs": [],
   "source": [
    "import numpy as np\n",
    "\n",
    "x_values = np.linspace(0, 2, 1000)\n",
    "\n",
    "sin_values = [sin(x) for x in x_values]\n",
    "cos_values = [cos(x) for x in x_values]"
   ]
  },
  {
   "cell_type": "code",
   "execution_count": 11,
   "id": "f8ae7d63",
   "metadata": {},
   "outputs": [
    {
     "name": "stdout",
     "output_type": "stream",
     "text": [
      "x\t\tsin(x)\t\tcos(x)\n",
      "0.0000\t\t0.0000\t\t1.0000\n",
      "0.0020\t\t0.0020\t\t1.0000\n",
      "0.0040\t\t0.0040\t\t1.0000\n",
      "0.0060\t\t0.0060\t\t1.0000\n",
      "0.0080\t\t0.0080\t\t1.0000\n",
      "0.0100\t\t0.0100\t\t0.9999\n",
      "0.0120\t\t0.0120\t\t0.9999\n",
      "0.0140\t\t0.0140\t\t0.9999\n",
      "0.0160\t\t0.0160\t\t0.9999\n",
      "0.0180\t\t0.0180\t\t0.9998\n"
     ]
    }
   ],
   "source": [
    "print(\"x\\t\\tsin(x)\\t\\tcos(x)\")\n",
    "\n",
    "for i in range(10):\n",
    "    print(f\"{x_values[i]:.4f}\\t\\t{sin_values[i]:.4f}\\t\\t{cos_values[i]:.4f}\")"
   ]
  }
 ],
 "metadata": {
  "kernelspec": {
   "display_name": "Python 3 (ipykernel)",
   "language": "python",
   "name": "python3"
  },
  "language_info": {
   "codemirror_mode": {
    "name": "ipython",
    "version": 3
   },
   "file_extension": ".py",
   "mimetype": "text/x-python",
   "name": "python",
   "nbconvert_exporter": "python",
   "pygments_lexer": "ipython3",
   "version": "3.9.7"
  }
 },
 "nbformat": 4,
 "nbformat_minor": 5
}
